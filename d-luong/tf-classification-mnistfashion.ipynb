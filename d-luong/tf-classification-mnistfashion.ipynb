{
 "cells": [
  {
   "cell_type": "markdown",
   "id": "1f07a492-1584-44af-adfc-e29c6532b8ee",
   "metadata": {},
   "source": [
    "<h1>Basic Classification with Tensorflow Keras</h1>\n",
    "\n",
    "Code credited to Dr. William Yu, UCLA Anderson School of Management and is a modified version of https://www.tensorflow.org/tutorials/keras/classification.\n",
    "\n",
    "This model uses MNIST-Fashion dataset, using 28x28px greyscale images and ten fashion classes. The goal is to train the model to classify clothing type."
   ]
  },
  {
   "cell_type": "markdown",
   "id": "58b74d62-588e-4842-ab32-60a645bdaea2",
   "metadata": {},
   "source": [
    "<h2>0. Install Packages</h2>\n",
    "Install needed packages. You only need to do this once. Use CTRL+/ to un/comment fields."
   ]
  },
  {
   "cell_type": "code",
   "execution_count": null,
   "id": "a423f77e-5207-4fad-931a-51805e2f7cf8",
   "metadata": {},
   "outputs": [],
   "source": [
    "# Install packages (only need to do once)\n",
    "# !pip install tensorflow\n",
    "# !pip install matplotlib\n",
    "# !pip install numpy"
   ]
  },
  {
   "cell_type": "markdown",
   "id": "2ad8df36-4198-4cc0-8727-557b5b1f0938",
   "metadata": {},
   "source": [
    "<h2>1. Load Packages and Import Dataset and Labels</h2>"
   ]
  },
  {
   "cell_type": "code",
   "execution_count": null,
   "id": "769f737b-c4b4-4d8c-89ca-cf5b46736b01",
   "metadata": {},
   "outputs": [],
   "source": [
    "# Print TF version\n",
    "import tensorflow as tf\n",
    "#print(tf.__version__)\n",
    "\n",
    "# Import MNIST dataset\n",
    "from tensorflow.keras.datasets import mnist\n",
    "import matplotlib.pyplot as plt\n",
    "import numpy as np\n",
    "(x_train, y_train), (x_test, y_test) = mnist.load_data()\n",
    "\n",
    "# Use Fashion Dataset\n",
    "fashion_mnist = tf.keras.datasets.fashion_mnist\n",
    "(train_images, train_labels), (test_images, test_labels) = fashion_mnist.load_data()\n",
    "\n",
    "class_names = ['0: T-shirt/top', '1: Trouser', '2: Pullover', '3: Dress', '4: Coat',\n",
    "               '5: Sandal', '6: Shirt', '7: Sneaker', '8: Bag', '9: Ankle boot']\n",
    "x_train.ndim\n",
    "x_train.shape\n",
    "\n",
    "train_images.shape\n",
    "len(train_labels)\n",
    "train_labels\n",
    "test_images.shape"
   ]
  },
  {
   "cell_type": "markdown",
   "id": "fed981f8-4724-4744-b3a9-5cd0202221fe",
   "metadata": {},
   "source": [
    "<h2>2. Preprocess and Verify Training Data</h2>\n",
    "The code will output 25 images from the training set and their classifications."
   ]
  },
  {
   "cell_type": "code",
   "execution_count": null,
   "id": "95f5a0fc-5da9-49b9-9b19-1dfeec9e541e",
   "metadata": {},
   "outputs": [],
   "source": [
    "# Define Training and Testing sets\n",
    "\n",
    "train_images = train_images / 255.0\n",
    "test_images = test_images / 255.0\n",
    "\n",
    "plt.figure(figsize=(12,12))\n",
    "for i in range(25):\n",
    "    plt.subplot(5,5,i+1)\n",
    "    plt.xticks([])\n",
    "    plt.yticks([])\n",
    "    plt.grid(False)\n",
    "    plt.imshow(train_images[i], cmap=plt.cm.binary)\n",
    "    plt.xlabel(class_names[train_labels[i]])\n",
    "plt.show()"
   ]
  },
  {
   "cell_type": "markdown",
   "id": "2fd6bb07-7c61-4210-9b56-554d6a192fcc",
   "metadata": {},
   "source": [
    "<h2>3. Train the Model and Evaluate Accuracy</h2>\n",
    "The code will train the model over a number of epochs and generate an accuracy value."
   ]
  },
  {
   "cell_type": "code",
   "execution_count": null,
   "id": "21a3d124-62dc-4cb0-a82b-f6e4c9bd7637",
   "metadata": {},
   "outputs": [],
   "source": [
    "# 1. Set up\n",
    "model = tf.keras.Sequential([\n",
    "    tf.keras.layers.Flatten(input_shape=(28, 28)),\n",
    "    tf.keras.layers.Dense(128, activation='relu'),\n",
    "    tf.keras.layers.Dense(10)\n",
    "])\n",
    "\n",
    "# 2. Compile\n",
    "model.compile(optimizer='adam',\n",
    "              loss=tf.keras.losses.SparseCategoricalCrossentropy(from_logits=True),\n",
    "              metrics=['accuracy'])    \n",
    "\n",
    "# 3. Train\n",
    "model.fit(train_images, train_labels, epochs=20)  \n",
    "\n",
    "# 4. Evaluate Accuracy\n",
    "test_loss, test_acc = model.evaluate(test_images,  test_labels, verbose=2)\n",
    "print('\\nTest accuracy:', test_acc)"
   ]
  },
  {
   "cell_type": "markdown",
   "id": "543d0c8f-088c-4373-b2bc-43b7c8c53217",
   "metadata": {},
   "source": [
    "<h2>4. Make Predictions</h2>\n",
    "The code will run on the first 15 images in the testing set and display the predicted class. Blue values are correct, while Red values are incorrect."
   ]
  },
  {
   "cell_type": "code",
   "execution_count": null,
   "id": "1e60d7b1-6902-41f5-9069-80028596cfcc",
   "metadata": {},
   "outputs": [],
   "source": [
    "# Plot the first X test images, their predicted labels, and the true labels.\n",
    "# Color correct predictions in blue and incorrect predictions in red.\n",
    "\n",
    "probability_model = tf.keras.Sequential([model, tf.keras.layers.Softmax()])\n",
    "predictions = probability_model.predict(test_images)\n",
    "\n",
    "def plot_image(i, predictions_array, true_label, img):\n",
    "  predictions_array, true_label, img = predictions_array, true_label[i], img[i]\n",
    "  plt.grid(False)\n",
    "  plt.xticks([])\n",
    "  plt.yticks([])\n",
    "\n",
    "  plt.imshow(img, cmap=plt.cm.binary)\n",
    "\n",
    "  predicted_label = np.argmax(predictions_array)\n",
    "  if predicted_label == true_label:\n",
    "    color = 'blue'\n",
    "  else:\n",
    "    color = 'red'\n",
    "\n",
    "  plt.xlabel(\"{} {:2.0f}% ({})\".format(class_names[predicted_label],\n",
    "                                100*np.max(predictions_array),\n",
    "                                class_names[true_label]),\n",
    "                                color=color)\n",
    "\n",
    "def plot_value_array(i, predictions_array, true_label):\n",
    "  predictions_array, true_label = predictions_array, true_label[i]\n",
    "  plt.grid(False)\n",
    "  plt.xticks(range(10))\n",
    "  plt.yticks([])\n",
    "  thisplot = plt.bar(range(10), predictions_array, color=\"#777777\")\n",
    "  plt.ylim([0, 1])\n",
    "  predicted_label = np.argmax(predictions_array)\n",
    "\n",
    "  thisplot[predicted_label].set_color('red')\n",
    "  thisplot[true_label].set_color('blue')\n",
    "\n",
    "num_rows = 5\n",
    "num_cols = 3\n",
    "num_images = num_rows*num_cols\n",
    "plt.figure(figsize=(2*2*num_cols, 2*num_rows))\n",
    "for i in range(num_images):\n",
    "  plt.subplot(num_rows, 2*num_cols, 2*i+1)\n",
    "  plot_image(i, predictions[i], test_labels, test_images)\n",
    "  plt.subplot(num_rows, 2*num_cols, 2*i+2)\n",
    "  plot_value_array(i, predictions[i], test_labels)\n",
    "plt.tight_layout()\n",
    "plt.show()"
   ]
  }
 ],
 "metadata": {
  "kernelspec": {
   "display_name": "Python 3 (ipykernel)",
   "language": "python",
   "name": "python3"
  },
  "language_info": {
   "codemirror_mode": {
    "name": "ipython",
    "version": 3
   },
   "file_extension": ".py",
   "mimetype": "text/x-python",
   "name": "python",
   "nbconvert_exporter": "python",
   "pygments_lexer": "ipython3",
   "version": "3.9.14"
  }
 },
 "nbformat": 4,
 "nbformat_minor": 5
}
